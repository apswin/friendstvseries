{
 "cells": [
  {
   "cell_type": "code",
   "execution_count": 1,
   "metadata": {},
   "outputs": [],
   "source": [
    "import requests\n",
    "from bs4 import BeautifulSoup\n",
    "import pandas as pd\n",
    "from textblob import TextBlob \n",
    "import os.path\n",
    "import gensim\n",
    "from gensim import corpora\n",
    "from gensim.models import LsiModel\n",
    "from nltk.tokenize import RegexpTokenizer\n",
    "from nltk.corpus import stopwords\n",
    "from nltk.stem.porter import PorterStemmer\n",
    "from nltk.stem import WordNetLemmatizer\n",
    "\n",
    "from gensim.models.coherencemodel import CoherenceModel\n",
    "import matplotlib.pyplot as plt\n",
    "\n",
    "import seaborn as sb\n",
    "import numpy as np\n",
    "from textblob import TextBlob "
   ]
  },
  {
   "cell_type": "code",
   "execution_count": 2,
   "metadata": {},
   "outputs": [],
   "source": [
    "url ='https://fangj.github.io/friends/'"
   ]
  },
  {
   "cell_type": "code",
   "execution_count": 3,
   "metadata": {},
   "outputs": [],
   "source": [
    "page = requests.get(url)\n",
    "soup = BeautifulSoup(page.text, 'html.parser')"
   ]
  },
  {
   "cell_type": "code",
   "execution_count": 4,
   "metadata": {},
   "outputs": [],
   "source": [
    "links = soup.find_all('a')"
   ]
  },
  {
   "cell_type": "code",
   "execution_count": 5,
   "metadata": {},
   "outputs": [],
   "source": [
    "a_script =[]\n",
    "cc=0\n",
    "script_dict ={}\n",
    "for l in links:\n",
    "    st = l.get_text().split(' ')\n",
    "    if(len(st[0].strip())>=4):\n",
    "        season = int(st[0][0:2])\n",
    "        episode = st[0][2:]\n",
    "    else:\n",
    "        season = int(st[0][0])\n",
    "        episode = st[0][1:]\n",
    "    title = ' '.join(st[1:]).strip()\n",
    "    surl = url + l['href']\n",
    "    s_episode = requests.get(surl)\n",
    "    soup = BeautifulSoup(s_episode.text, 'html.parser')\n",
    "    dialogues = soup.find_all('p')\n",
    "    script_start = False\n",
    "    for d in dialogues:\n",
    "        diag = d.get_text()\n",
    "        diag = diag.split(':')\n",
    "        if(script_start):\n",
    "            if(len(diag)>1):\n",
    "                a_script.append([season, episode, title, diag[0],diag[1]])\n",
    "        elif(len(diag)>1 and diag[0]=='[Scene'):\n",
    "            script_start = True\n",
    "    script_dict.update({cc: a_script[cc]})\n",
    "    cc = cc+1"
   ]
  },
  {
   "cell_type": "code",
   "execution_count": 6,
   "metadata": {},
   "outputs": [],
   "source": [
    "friends_df = pd.DataFrame(a_script)"
   ]
  },
  {
   "cell_type": "code",
   "execution_count": 43,
   "metadata": {},
   "outputs": [
    {
     "data": {
      "text/html": [
       "<div>\n",
       "<style scoped>\n",
       "    .dataframe tbody tr th:only-of-type {\n",
       "        vertical-align: middle;\n",
       "    }\n",
       "\n",
       "    .dataframe tbody tr th {\n",
       "        vertical-align: top;\n",
       "    }\n",
       "\n",
       "    .dataframe thead th {\n",
       "        text-align: right;\n",
       "    }\n",
       "</style>\n",
       "<table border=\"1\" class=\"dataframe\">\n",
       "  <thead>\n",
       "    <tr style=\"text-align: right;\">\n",
       "      <th></th>\n",
       "      <th>Season</th>\n",
       "      <th>Episode</th>\n",
       "      <th>Title</th>\n",
       "      <th>Character</th>\n",
       "      <th>Dialogue</th>\n",
       "    </tr>\n",
       "  </thead>\n",
       "  <tbody>\n",
       "    <tr>\n",
       "      <td>0</td>\n",
       "      <td>1</td>\n",
       "      <td>01</td>\n",
       "      <td>Monica Gets A Roommate</td>\n",
       "      <td>Phoebe</td>\n",
       "      <td>(singing) Love is sweet as\\nsummer showers, l...</td>\n",
       "    </tr>\n",
       "    <tr>\n",
       "      <td>1</td>\n",
       "      <td>1</td>\n",
       "      <td>01</td>\n",
       "      <td>Monica Gets A Roommate</td>\n",
       "      <td>[Scene</td>\n",
       "      <td>Ross's Apartment, the guys are there assembli...</td>\n",
       "    </tr>\n",
       "    <tr>\n",
       "      <td>2</td>\n",
       "      <td>1</td>\n",
       "      <td>01</td>\n",
       "      <td>Monica Gets A Roommate</td>\n",
       "      <td>Ross</td>\n",
       "      <td>(squatting and reading the instructions) I'm\\...</td>\n",
       "    </tr>\n",
       "    <tr>\n",
       "      <td>3</td>\n",
       "      <td>1</td>\n",
       "      <td>01</td>\n",
       "      <td>Monica Gets A Roommate</td>\n",
       "      <td>Joey</td>\n",
       "      <td>I'm thinking we've got a\\nbookcase here.</td>\n",
       "    </tr>\n",
       "    <tr>\n",
       "      <td>4</td>\n",
       "      <td>1</td>\n",
       "      <td>01</td>\n",
       "      <td>Monica Gets A Roommate</td>\n",
       "      <td>Chandler</td>\n",
       "      <td>It's a beautiful thing.</td>\n",
       "    </tr>\n",
       "    <tr>\n",
       "      <td>...</td>\n",
       "      <td>...</td>\n",
       "      <td>...</td>\n",
       "      <td>...</td>\n",
       "      <td>...</td>\n",
       "      <td>...</td>\n",
       "    </tr>\n",
       "    <tr>\n",
       "      <td>58246</td>\n",
       "      <td>10</td>\n",
       "      <td>17-1018</td>\n",
       "      <td>The Last One, Part I &amp; II</td>\n",
       "      <td>Chandler</td>\n",
       "      <td>Oh, it's gonna be okay.</td>\n",
       "    </tr>\n",
       "    <tr>\n",
       "      <td>58247</td>\n",
       "      <td>10</td>\n",
       "      <td>17-1018</td>\n",
       "      <td>The Last One, Part I &amp; II</td>\n",
       "      <td>Rachel</td>\n",
       "      <td>(crying) Do you guys have to go to the new ho...</td>\n",
       "    </tr>\n",
       "    <tr>\n",
       "      <td>58248</td>\n",
       "      <td>10</td>\n",
       "      <td>17-1018</td>\n",
       "      <td>The Last One, Part I &amp; II</td>\n",
       "      <td>Monica</td>\n",
       "      <td>We got some time.</td>\n",
       "    </tr>\n",
       "    <tr>\n",
       "      <td>58249</td>\n",
       "      <td>10</td>\n",
       "      <td>17-1018</td>\n",
       "      <td>The Last One, Part I &amp; II</td>\n",
       "      <td>Rachel</td>\n",
       "      <td>Okay, should we get some coffee?</td>\n",
       "    </tr>\n",
       "    <tr>\n",
       "      <td>58250</td>\n",
       "      <td>10</td>\n",
       "      <td>17-1018</td>\n",
       "      <td>The Last One, Part I &amp; II</td>\n",
       "      <td>Chandler</td>\n",
       "      <td>Sure. Where?</td>\n",
       "    </tr>\n",
       "  </tbody>\n",
       "</table>\n",
       "<p>58251 rows × 5 columns</p>\n",
       "</div>"
      ],
      "text/plain": [
       "       Season  Episode                      Title Character  \\\n",
       "0           1       01     Monica Gets A Roommate    Phoebe   \n",
       "1           1       01     Monica Gets A Roommate    [Scene   \n",
       "2           1       01     Monica Gets A Roommate      Ross   \n",
       "3           1       01     Monica Gets A Roommate      Joey   \n",
       "4           1       01     Monica Gets A Roommate  Chandler   \n",
       "...       ...      ...                        ...       ...   \n",
       "58246      10  17-1018  The Last One, Part I & II  Chandler   \n",
       "58247      10  17-1018  The Last One, Part I & II    Rachel   \n",
       "58248      10  17-1018  The Last One, Part I & II    Monica   \n",
       "58249      10  17-1018  The Last One, Part I & II    Rachel   \n",
       "58250      10  17-1018  The Last One, Part I & II  Chandler   \n",
       "\n",
       "                                                Dialogue  \n",
       "0       (singing) Love is sweet as\\nsummer showers, l...  \n",
       "1       Ross's Apartment, the guys are there assembli...  \n",
       "2       (squatting and reading the instructions) I'm\\...  \n",
       "3               I'm thinking we've got a\\nbookcase here.  \n",
       "4                                It's a beautiful thing.  \n",
       "...                                                  ...  \n",
       "58246                            Oh, it's gonna be okay.  \n",
       "58247   (crying) Do you guys have to go to the new ho...  \n",
       "58248                                  We got some time.  \n",
       "58249                   Okay, should we get some coffee?  \n",
       "58250                                       Sure. Where?  \n",
       "\n",
       "[58251 rows x 5 columns]"
      ]
     },
     "execution_count": 43,
     "metadata": {},
     "output_type": "execute_result"
    }
   ],
   "source": [
    "friends_df"
   ]
  },
  {
   "cell_type": "code",
   "execution_count": 8,
   "metadata": {},
   "outputs": [],
   "source": [
    "# gapminder.year.isin(years)\n",
    "friends_df.columns = ['Season','Episode','Title','Character','Dialogue']"
   ]
  },
  {
   "cell_type": "code",
   "execution_count": 9,
   "metadata": {},
   "outputs": [],
   "source": [
    "is_char = friends_df.Character.isin(['Phoebe','Ross','Chandler','Joey','Monica','Rachel'])"
   ]
  },
  {
   "cell_type": "code",
   "execution_count": 10,
   "metadata": {},
   "outputs": [],
   "source": [
    "friends_char_df = friends_df[is_char]"
   ]
  },
  {
   "cell_type": "code",
   "execution_count": 11,
   "metadata": {},
   "outputs": [],
   "source": [
    "phoebe_text = list(friends_char_df[friends_char_df.Character == 'Phoebe'].Dialogue)\n",
    "ross_text = list(friends_char_df[friends_char_df.Character == 'Ross'].Dialogue)\n",
    "chandler_text = list(friends_char_df[friends_char_df.Character == 'Chandler'].Dialogue)\n",
    "joey_text = list(friends_char_df[friends_char_df.Character == 'Joey'].Dialogue)\n",
    "monica_text = list(friends_char_df[friends_char_df.Character == 'Monica'].Dialogue)\n",
    "rachel_text = list(friends_char_df[friends_char_df.Character == 'Rachel'].Dialogue)"
   ]
  },
  {
   "cell_type": "code",
   "execution_count": 12,
   "metadata": {},
   "outputs": [],
   "source": [
    "def preprocess_data(doc_set):\n",
    "    \"\"\"\n",
    "    Input  : docuemnt list\n",
    "    Purpose: preprocess text (tokenize, removing stopwords, and stemming)\n",
    "    Output : preprocessed text\n",
    "    \"\"\"\n",
    "    # initialize regex tokenizer\n",
    "    tokenizer = RegexpTokenizer(r'\\w+')\n",
    "    # create English stop words list\n",
    "    en_stop = set(stopwords.words('english'))\n",
    "    # Create p_stemmer of class PorterStemmer\n",
    "    p_stemmer = PorterStemmer()\n",
    "    # list for tokenized documents in loop\n",
    "    texts = []\n",
    "    # loop through document list\n",
    "    for i in doc_set:\n",
    "        # clean and tokenize document string\n",
    "        raw = i.lower()\n",
    "        tokens = tokenizer.tokenize(raw)\n",
    "        # remove stop words from tokens\n",
    "        stopped_tokens = [i for i in tokens if not i in en_stop]\n",
    "        # stem tokens\n",
    "        stemmed_tokens = [p_stemmer.stem(i) for i in stopped_tokens]\n",
    "        # add tokens to list\n",
    "        texts.append(stemmed_tokens)\n",
    "    return texts"
   ]
  },
  {
   "cell_type": "code",
   "execution_count": 13,
   "metadata": {},
   "outputs": [],
   "source": [
    "def prepare_corpus(doc_clean):\n",
    "    \"\"\"\n",
    "    Input  : clean document\n",
    "    Purpose: create term dictionary of our courpus and Converting list of documents (corpus) into Document Term Matrix\n",
    "    Output : term dictionary and Document Term Matrix\n",
    "    \"\"\"\n",
    "    # Creating the term dictionary of our courpus, where every unique term is assigned an index. dictionary = corpora.Dictionary(doc_clean)\n",
    "    dictionary = corpora.Dictionary(doc_clean)\n",
    "    # Converting list of documents (corpus) into Document Term Matrix using dictionary prepared above.\n",
    "    doc_term_matrix = [dictionary.doc2bow(doc) for doc in doc_clean]\n",
    "    # generate LDA model\n",
    "    return dictionary,doc_term_matrix"
   ]
  },
  {
   "cell_type": "code",
   "execution_count": 14,
   "metadata": {},
   "outputs": [],
   "source": [
    "def create_gensim_lsa_model(doc_clean,number_of_topics,words):\n",
    "    \"\"\"\n",
    "    Input  : clean document, number of topics and number of words associated with each topic\n",
    "    Purpose: create LSA model using gensim\n",
    "    Output : return LSA model\n",
    "    \"\"\"\n",
    "\n",
    "    d,dtm=prepare_corpus(doc_clean)\n",
    "    lsa = LsiModel(dtm, num_topics=number_of_topics, id2word = d)\n",
    "    return lsa "
   ]
  },
  {
   "cell_type": "code",
   "execution_count": 15,
   "metadata": {},
   "outputs": [],
   "source": [
    "def compute_coherence_values(term_dictionary, doc_term_matrix, cleaned_documents_list, start, stop, step):\n",
    "    \"\"\"\n",
    "    Input: term_dictionary, doc_term_matrix, cleaned_documents_list, \n",
    "           start(Min. number of topics),\n",
    "           stop(Max. num of topics)\n",
    "           step(Step size when increasing the number of topics) \n",
    "    Output  : coherence_values : Coherence values corresponding to the LDA model with respective number of topics\n",
    "    \"\"\"\n",
    "    # YOUR CODE HERE\n",
    "    \n",
    "    mlist = []\n",
    "    cval = []\n",
    "    for n in range(start, stop, step):\n",
    "        m = LsiModel(doc_term_matrix, num_topics=n, id2word = term_dictionary)  \n",
    "        mlist.append(m)\n",
    "        cval.append(CoherenceModel(model=m, texts=cleaned_documents_list, dictionary=term_dictionary, coherence='c_v').get_coherence())\n",
    "    return cval"
   ]
  },
  {
   "cell_type": "code",
   "execution_count": 16,
   "metadata": {},
   "outputs": [],
   "source": [
    "def plot_graph(coherence_values,start, stop, step):\n",
    "    '''\n",
    "    Input: Coherence Values, Start, Stop, Step\n",
    "    Output: N/A(Should not return anything, but should plot the graph between the number of topics and coherence values.)\n",
    "    '''\n",
    "    # YOUR CODE HERE\n",
    "    plt.plot(range(start, stop, step), coherence_values)\n",
    "    plt.xlabel(\"Number of Topics\")\n",
    "    plt.ylabel(\"Coherence score\")\n",
    "    plt.show()\n",
    "    return"
   ]
  },
  {
   "cell_type": "code",
   "execution_count": 17,
   "metadata": {},
   "outputs": [
    {
     "data": {
      "image/png": "[encoded data removed]",
      "text/plain": [
       "<Figure size 432x288 with 1 Axes>"
      ]
     },
     "metadata": {
      "needs_background": "light"
     },
     "output_type": "display_data"
    }
   ],
   "source": [
    "start,stop,step=2,12,1\n",
    "clean_documents_list=preprocess_data(phoebe_text)\n",
    "term_dictionary, doc_term_matrix = prepare_corpus(clean_documents_list)\n",
    "coherence_values = compute_coherence_values(term_dictionary, doc_term_matrix,clean_documents_list, start, stop, step)\n",
    "plot_graph(coherence_values,start,stop,step)"
   ]
  },
  {
   "cell_type": "code",
   "execution_count": 18,
   "metadata": {},
   "outputs": [
    {
     "data": {
      "image/png": "[encoded data removed]",
      "text/plain": [
       "<Figure size 432x288 with 1 Axes>"
      ]
     },
     "metadata": {
      "needs_background": "light"
     },
     "output_type": "display_data"
    }
   ],
   "source": [
    "start,stop,step=2,12,1\n",
    "clean_documents_list=preprocess_data(monica_text)\n",
    "term_dictionary, doc_term_matrix = prepare_corpus(clean_documents_list)\n",
    "coherence_values = compute_coherence_values(term_dictionary, doc_term_matrix,clean_documents_list, start, stop, step)\n",
    "plot_graph(coherence_values,start,stop,step)"
   ]
  },
  {
   "cell_type": "code",
   "execution_count": 19,
   "metadata": {},
   "outputs": [
    {
     "data": {
      "image/png": "[encoded data removed]",
      "text/plain": [
       "<Figure size 432x288 with 1 Axes>"
      ]
     },
     "metadata": {
      "needs_background": "light"
     },
     "output_type": "display_data"
    }
   ],
   "source": [
    "start,stop,step=2,12,1\n",
    "clean_documents_list=preprocess_data(ross_text)\n",
    "term_dictionary, doc_term_matrix = prepare_corpus(clean_documents_list)\n",
    "coherence_values = compute_coherence_values(term_dictionary, doc_term_matrix,clean_documents_list, start, stop, step)\n",
    "plot_graph(coherence_values,start,stop,step)"
   ]
  },
  {
   "cell_type": "code",
   "execution_count": 20,
   "metadata": {},
   "outputs": [
    {
     "data": {
      "image/png": "[encoded data removed]",
      "text/plain": [
       "<Figure size 432x288 with 1 Axes>"
      ]
     },
     "metadata": {
      "needs_background": "light"
     },
     "output_type": "display_data"
    }
   ],
   "source": [
    "start,stop,step=2,12,1\n",
    "clean_documents_list=preprocess_data(chandler_text)\n",
    "term_dictionary, doc_term_matrix = prepare_corpus(clean_documents_list)\n",
    "coherence_values = compute_coherence_values(term_dictionary, doc_term_matrix,clean_documents_list, start, stop, step)\n",
    "plot_graph(coherence_values,start,stop,step)"
   ]
  },
  {
   "cell_type": "code",
   "execution_count": 21,
   "metadata": {},
   "outputs": [
    {
     "data": {
      "image/png": "[encoded data removed]",
      "text/plain": [
       "<Figure size 432x288 with 1 Axes>"
      ]
     },
     "metadata": {
      "needs_background": "light"
     },
     "output_type": "display_data"
    }
   ],
   "source": [
    "start,stop,step=2,12,1\n",
    "clean_documents_list=preprocess_data(joey_text)\n",
    "term_dictionary, doc_term_matrix = prepare_corpus(clean_documents_list)\n",
    "coherence_values = compute_coherence_values(term_dictionary, doc_term_matrix,clean_documents_list, start, stop, step)\n",
    "plot_graph(coherence_values,start,stop,step)"
   ]
  },
  {
   "cell_type": "code",
   "execution_count": 22,
   "metadata": {},
   "outputs": [
    {
     "data": {
      "image/png": "[encoded data removed]",
      "text/plain": [
       "<Figure size 432x288 with 1 Axes>"
      ]
     },
     "metadata": {
      "needs_background": "light"
     },
     "output_type": "display_data"
    }
   ],
   "source": [
    "start,stop,step=2,12,1\n",
    "clean_documents_list=preprocess_data(rachel_text)\n",
    "term_dictionary, doc_term_matrix = prepare_corpus(clean_documents_list)\n",
    "coherence_values = compute_coherence_values(term_dictionary, doc_term_matrix,clean_documents_list, start, stop, step)\n",
    "plot_graph(coherence_values,start,stop,step)"
   ]
  },
  {
   "cell_type": "code",
   "execution_count": 23,
   "metadata": {},
   "outputs": [
    {
     "data": {
      "image/png": "[encoded data removed]",
      "text/plain": [
       "<Figure size 432x288 with 1 Axes>"
      ]
     },
     "metadata": {
      "needs_background": "light"
     },
     "output_type": "display_data"
    }
   ],
   "source": [
    "lchar = ['Phoebe','Ross','Chandler','Joey','Monica','Rachel']\n",
    "ltopics =[5,6,6,5,3,7]\n",
    "\n",
    "fig = plt.figure()\n",
    "ax = fig.add_axes([0,0,1,1])\n",
    "ax.set_title('Thought diversity score', pad=20)\n",
    "ax.bar(lchar,ltopics)\n",
    "plt.show()"
   ]
  },
  {
   "cell_type": "code",
   "execution_count": 24,
   "metadata": {},
   "outputs": [],
   "source": [
    "#As we can see, Rachel has most diverse nature of dialogues.This is evident from the above bar graph where we have analyzed number of topics in dialogues of each character in the Friends TV show."
   ]
  },
  {
   "cell_type": "code",
   "execution_count": 25,
   "metadata": {},
   "outputs": [],
   "source": [
    "#Building upon previous work, now we will try to understand personality of each character through the topics encountered in their speech"
   ]
  },
  {
   "cell_type": "code",
   "execution_count": 26,
   "metadata": {},
   "outputs": [
    {
     "data": {
      "text/plain": [
       "[(0,\n",
       "  '0.663*\"oh\" + 0.400*\"know\" + 0.205*\"okay\" + 0.162*\"ross\" + 0.161*\"god\" + 0.132*\"gonna\" + 0.131*\"get\" + 0.121*\"look\" + 0.121*\"yeah\" + 0.121*\"well\"'),\n",
       " (1,\n",
       "  '0.668*\"oh\" + -0.561*\"know\" + -0.223*\"okay\" + 0.185*\"god\" + -0.135*\"mean\" + -0.124*\"well\" + -0.114*\"gonna\" + -0.110*\"right\" + -0.097*\"go\" + -0.084*\"get\"'),\n",
       " (2,\n",
       "  '-0.789*\"okay\" + 0.515*\"know\" + -0.117*\"right\" + -0.102*\"get\" + -0.100*\"gonna\" + -0.094*\"ross\" + -0.090*\"go\" + 0.084*\"oh\" + 0.083*\"mean\" + -0.079*\"see\"'),\n",
       " (3,\n",
       "  '0.448*\"yeah\" + -0.435*\"know\" + -0.416*\"okay\" + 0.395*\"well\" + 0.198*\"ross\" + 0.160*\"gonna\" + 0.154*\"go\" + 0.151*\"get\" + 0.135*\"look\" + -0.133*\"oh\"'),\n",
       " (4,\n",
       "  '0.758*\"yeah\" + -0.452*\"ross\" + 0.228*\"okay\" + -0.155*\"get\" + -0.138*\"gonna\" + -0.120*\"go\" + -0.117*\"look\" + -0.101*\"mean\" + 0.096*\"know\" + -0.083*\"guy\"'),\n",
       " (5,\n",
       "  '-0.696*\"well\" + 0.524*\"ross\" + 0.381*\"yeah\" + 0.128*\"mean\" + -0.123*\"go\" + -0.110*\"gonna\" + 0.089*\"look\" + -0.070*\"uh\" + 0.066*\"love\" + 0.053*\"come\"'),\n",
       " (6,\n",
       "  '-0.494*\"ross\" + -0.472*\"well\" + 0.455*\"gonna\" + 0.362*\"right\" + 0.258*\"get\" + 0.240*\"go\" + -0.133*\"okay\" + 0.099*\"joey\" + -0.065*\"uh\" + -0.057*\"know\"')]"
      ]
     },
     "execution_count": 26,
     "metadata": {},
     "output_type": "execute_result"
    }
   ],
   "source": [
    "#Rachel's topic\n",
    "# YOUR CODE HERE\n",
    "number_of_topics=7\n",
    "words=10\n",
    "model=create_gensim_lsa_model(preprocess_data(rachel_text),number_of_topics,words)\n",
    "rachel_topics = model.print_topics(num_topics=number_of_topics, num_words=words)\n",
    "rachel_topics"
   ]
  },
  {
   "cell_type": "code",
   "execution_count": 27,
   "metadata": {},
   "outputs": [
    {
     "data": {
      "text/plain": [
       "[(0,\n",
       "  '-0.389*\"oh\" + -0.350*\"know\" + -0.293*\"get\" + -0.288*\"okay\" + -0.263*\"go\" + -0.184*\"chandler\" + -0.172*\"gonna\" + -0.159*\"right\" + -0.143*\"god\" + -0.140*\"mean\"'),\n",
       " (1,\n",
       "  '-0.775*\"oh\" + -0.307*\"god\" + 0.300*\"7\" + 0.215*\"get\" + 0.178*\"know\" + 0.168*\"okay\" + 0.160*\"go\" + 0.129*\"2\" + 0.081*\"4\" + 0.059*\"think\"'),\n",
       " (2,\n",
       "  '-0.778*\"7\" + -0.330*\"2\" + -0.271*\"oh\" + -0.207*\"4\" + 0.200*\"know\" + -0.127*\"3\" + -0.125*\"6\" + -0.110*\"god\" + 0.107*\"okay\" + 0.098*\"go\"'),\n",
       " (3,\n",
       "  '-0.712*\"know\" + 0.494*\"get\" + 0.305*\"okay\" + 0.237*\"go\" + -0.123*\"7\" + -0.107*\"mean\" + -0.105*\"like\" + 0.081*\"phoeb\" + -0.067*\"think\" + 0.060*\"gonna\"'),\n",
       " (4,\n",
       "  '0.785*\"okay\" + -0.531*\"get\" + -0.212*\"go\" + -0.109*\"know\" + 0.058*\"listen\" + 0.057*\"7\" + 0.050*\"chandler\" + 0.044*\"right\" + -0.039*\"well\" + -0.035*\"marri\"'),\n",
       " (5,\n",
       "  '0.736*\"go\" + -0.534*\"get\" + -0.204*\"know\" + -0.201*\"okay\" + 0.138*\"gonna\" + 0.107*\"right\" + 0.084*\"chandler\" + 0.081*\"guy\" + 0.066*\"hey\" + 0.064*\"let\"'),\n",
       " (6,\n",
       "  '0.543*\"chandler\" + -0.367*\"know\" + -0.342*\"go\" + -0.264*\"okay\" + 0.246*\"yeah\" + 0.229*\"look\" + 0.157*\"realli\" + 0.152*\"listen\" + 0.146*\"hey\" + 0.135*\"think\"')]"
      ]
     },
     "execution_count": 27,
     "metadata": {},
     "output_type": "execute_result"
    }
   ],
   "source": [
    "number_of_topics=7\n",
    "words=10\n",
    "model=create_gensim_lsa_model(preprocess_data(monica_text),number_of_topics,words)\n",
    "monica_topics = model.print_topics(num_topics=number_of_topics, num_words=words)\n",
    "monica_topics"
   ]
  },
  {
   "cell_type": "code",
   "execution_count": 28,
   "metadata": {},
   "outputs": [
    {
     "data": {
      "text/plain": [
       "[(0,\n",
       "  '-0.452*\"know\" + -0.320*\"okay\" + -0.281*\"oh\" + -0.246*\"uh\" + -0.211*\"yeah\" + -0.194*\"look\" + -0.186*\"go\" + -0.168*\"get\" + -0.161*\"like\" + -0.156*\"mean\"'),\n",
       " (1,\n",
       "  '0.820*\"okay\" + -0.371*\"oh\" + -0.299*\"know\" + -0.186*\"yeah\" + -0.099*\"uh\" + 0.084*\"go\" + 0.066*\"look\" + -0.061*\"god\" + 0.054*\"get\" + 0.052*\"right\"'),\n",
       " (2,\n",
       "  '0.756*\"oh\" + -0.585*\"know\" + 0.144*\"okay\" + 0.115*\"god\" + -0.097*\"mean\" + 0.079*\"yeah\" + 0.057*\"hey\" + 0.055*\"uh\" + -0.048*\"go\" + -0.041*\"guy\"'),\n",
       " (3,\n",
       "  '-0.823*\"yeah\" + 0.292*\"oh\" + 0.278*\"know\" + -0.272*\"uh\" + 0.223*\"hey\" + 0.067*\"god\" + -0.065*\"well\" + 0.058*\"look\" + -0.056*\"right\" + -0.044*\"listen\"'),\n",
       " (4,\n",
       "  '0.776*\"hey\" + 0.418*\"uh\" + -0.238*\"know\" + -0.229*\"oh\" + -0.217*\"okay\" + 0.096*\"guy\" + 0.095*\"get\" + -0.092*\"yeah\" + 0.074*\"rachel\" + 0.074*\"enter\"'),\n",
       " (5,\n",
       "  '-0.760*\"uh\" + 0.450*\"hey\" + 0.396*\"yeah\" + -0.101*\"well\" + 0.082*\"get\" + 0.077*\"right\" + 0.074*\"rachel\" + -0.055*\"like\" + 0.047*\"know\" + 0.047*\"look\"'),\n",
       " (6,\n",
       "  '-0.405*\"know\" + 0.389*\"go\" + -0.349*\"okay\" + 0.336*\"look\" + -0.246*\"hey\" + 0.202*\"right\" + -0.195*\"yeah\" + 0.192*\"get\" + -0.175*\"uh\" + 0.172*\"like\"')]"
      ]
     },
     "execution_count": 28,
     "metadata": {},
     "output_type": "execute_result"
    }
   ],
   "source": [
    "number_of_topics=7\n",
    "words=10\n",
    "model=create_gensim_lsa_model(preprocess_data(ross_text),number_of_topics,words)\n",
    "ross_topics = model.print_topics(num_topics=number_of_topics, num_words=words)\n",
    "ross_topics"
   ]
  },
  {
   "cell_type": "code",
   "execution_count": 29,
   "metadata": {},
   "outputs": [
    {
     "data": {
      "text/plain": [
       "[(0,\n",
       "  '-0.537*\"know\" + -0.471*\"oh\" + -0.309*\"okay\" + -0.200*\"like\" + -0.183*\"yeah\" + -0.150*\"look\" + -0.141*\"well\" + -0.136*\"get\" + -0.123*\"right\" + -0.120*\"guy\"'),\n",
       " (1,\n",
       "  '-0.771*\"oh\" + 0.581*\"know\" + -0.143*\"god\" + 0.119*\"like\" + -0.055*\"look\" + 0.053*\"realli\" + 0.047*\"well\" + 0.047*\"gonna\" + 0.042*\"mean\" + 0.036*\"okay\"'),\n",
       " (2,\n",
       "  '0.780*\"okay\" + -0.439*\"know\" + -0.284*\"oh\" + 0.126*\"right\" + 0.112*\"well\" + 0.110*\"get\" + 0.093*\"go\" + -0.068*\"like\" + 0.068*\"gonna\" + 0.066*\"look\"'),\n",
       " (3,\n",
       "  '0.862*\"yeah\" + -0.286*\"okay\" + -0.257*\"know\" + -0.147*\"oh\" + 0.103*\"look\" + 0.094*\"go\" + 0.087*\"well\" + 0.076*\"realli\" + 0.073*\"right\" + 0.067*\"monica\"'),\n",
       " (4,\n",
       "  '-0.426*\"yeah\" + -0.359*\"okay\" + 0.355*\"like\" + 0.306*\"look\" + 0.252*\"hey\" + -0.249*\"know\" + 0.242*\"guy\" + 0.213*\"go\" + -0.158*\"oh\" + 0.149*\"get\"'),\n",
       " (5,\n",
       "  '0.697*\"like\" + -0.380*\"go\" + -0.300*\"gonna\" + -0.236*\"well\" + 0.181*\"okay\" + -0.169*\"get\" + 0.139*\"look\" + -0.113*\"right\" + -0.107*\"want\" + 0.105*\"ross\"'),\n",
       " (6,\n",
       "  '-0.688*\"well\" + 0.483*\"hey\" + 0.214*\"go\" + -0.210*\"like\" + 0.169*\"look\" + 0.132*\"monica\" + 0.124*\"chandler\" + 0.122*\"guy\" + -0.118*\"one\" + -0.115*\"get\"')]"
      ]
     },
     "execution_count": 29,
     "metadata": {},
     "output_type": "execute_result"
    }
   ],
   "source": [
    "number_of_topics=7\n",
    "words=10\n",
    "model=create_gensim_lsa_model(preprocess_data(phoebe_text),number_of_topics,words)\n",
    "phoebe_topics = model.print_topics(num_topics=number_of_topics, num_words=words)\n",
    "phoebe_topics"
   ]
  },
  {
   "cell_type": "code",
   "execution_count": 30,
   "metadata": {},
   "outputs": [
    {
     "data": {
      "text/plain": [
       "[(0,\n",
       "  '0.405*\"know\" + 0.300*\"hey\" + 0.297*\"look\" + 0.269*\"yeah\" + 0.252*\"oh\" + 0.224*\"like\" + 0.221*\"right\" + 0.178*\"okay\" + 0.164*\"uh\" + 0.162*\"ross\"'),\n",
       " (1,\n",
       "  '0.868*\"hey\" + -0.360*\"yeah\" + -0.260*\"know\" + -0.104*\"like\" + 0.078*\"ross\" + 0.076*\"enter\" + -0.069*\"oh\" + -0.048*\"well\" + 0.041*\"guy\" + -0.041*\"look\"'),\n",
       " (2,\n",
       "  '-0.683*\"yeah\" + 0.471*\"know\" + -0.429*\"oh\" + 0.240*\"look\" + -0.153*\"hey\" + 0.075*\"like\" + -0.073*\"uh\" + 0.070*\"right\" + 0.054*\"guy\" + -0.052*\"listen\"'),\n",
       " (3,\n",
       "  '0.620*\"know\" + -0.428*\"look\" + 0.288*\"yeah\" + 0.276*\"hey\" + -0.274*\"okay\" + -0.259*\"right\" + -0.203*\"oh\" + -0.173*\"ross\" + -0.072*\"chandler\" + -0.063*\"joey\"'),\n",
       " (4,\n",
       "  '0.786*\"oh\" + -0.445*\"yeah\" + 0.223*\"know\" + -0.218*\"right\" + -0.196*\"look\" + 0.088*\"uh\" + -0.088*\"like\" + -0.078*\"okay\" + -0.074*\"hey\" + 0.066*\"god\"'),\n",
       " (5,\n",
       "  '-0.691*\"look\" + 0.514*\"right\" + 0.246*\"go\" + 0.224*\"get\" + 0.152*\"well\" + 0.148*\"okay\" + -0.123*\"yeah\" + -0.114*\"like\" + -0.106*\"hey\" + -0.070*\"oh\"'),\n",
       " (6,\n",
       "  '0.584*\"right\" + -0.419*\"like\" + -0.347*\"ross\" + -0.274*\"uh\" + 0.247*\"look\" + -0.196*\"get\" + 0.186*\"oh\" + 0.184*\"know\" + -0.104*\"one\" + -0.100*\"chandler\"')]"
      ]
     },
     "execution_count": 30,
     "metadata": {},
     "output_type": "execute_result"
    }
   ],
   "source": [
    "number_of_topics=7\n",
    "words=10\n",
    "model=create_gensim_lsa_model(preprocess_data(joey_text),number_of_topics,words)\n",
    "joey_topics = model.print_topics(num_topics=number_of_topics, num_words=words)\n",
    "joey_topics"
   ]
  },
  {
   "cell_type": "code",
   "execution_count": 31,
   "metadata": {},
   "outputs": [
    {
     "data": {
      "text/plain": [
       "[(0,\n",
       "  '0.555*\"know\" + 0.248*\"okay\" + 0.237*\"get\" + 0.222*\"go\" + 0.220*\"oh\" + 0.205*\"look\" + 0.176*\"well\" + 0.166*\"gonna\" + 0.155*\"like\" + 0.144*\"think\"'),\n",
       " (1,\n",
       "  '-0.725*\"know\" + 0.437*\"okay\" + 0.336*\"oh\" + 0.185*\"joey\" + 0.139*\"go\" + 0.116*\"get\" + 0.100*\"right\" + 0.095*\"look\" + 0.079*\"yeah\" + 0.077*\"monica\"'),\n",
       " (2,\n",
       "  '0.716*\"oh\" + -0.563*\"okay\" + -0.247*\"go\" + 0.199*\"yeah\" + 0.092*\"god\" + -0.092*\"gonna\" + -0.088*\"get\" + 0.082*\"well\" + 0.075*\"joey\" + 0.062*\"hey\"'),\n",
       " (3,\n",
       "  '0.620*\"go\" + -0.582*\"okay\" + -0.267*\"oh\" + -0.230*\"know\" + 0.183*\"joey\" + 0.133*\"well\" + 0.130*\"look\" + 0.107*\"hey\" + 0.099*\"get\" + 0.095*\"right\"'),\n",
       " (4,\n",
       "  '-0.614*\"go\" + 0.471*\"joey\" + -0.346*\"oh\" + 0.343*\"look\" + 0.157*\"well\" + 0.142*\"monica\" + -0.113*\"know\" + 0.109*\"get\" + -0.104*\"okay\" + 0.095*\"like\"'),\n",
       " (5,\n",
       "  '-0.821*\"get\" + 0.412*\"look\" + 0.130*\"go\" + 0.126*\"like\" + 0.117*\"okay\" + -0.104*\"one\" + 0.098*\"monica\" + -0.095*\"kathi\" + 0.090*\"well\" + -0.088*\"gonna\"'),\n",
       " (6,\n",
       "  '-0.688*\"joey\" + 0.528*\"look\" + 0.254*\"get\" + 0.136*\"right\" + -0.131*\"hey\" + -0.131*\"know\" + -0.131*\"go\" + -0.124*\"okay\" + -0.121*\"well\" + 0.120*\"monica\"')]"
      ]
     },
     "execution_count": 31,
     "metadata": {},
     "output_type": "execute_result"
    }
   ],
   "source": [
    "number_of_topics=7\n",
    "words=10\n",
    "model=create_gensim_lsa_model(preprocess_data(chandler_text),number_of_topics,words)\n",
    "chandler_topics = model.print_topics(num_topics=number_of_topics, num_words=words)\n",
    "chandler_topics"
   ]
  },
  {
   "cell_type": "code",
   "execution_count": 32,
   "metadata": {},
   "outputs": [
    {
     "data": {
      "text/plain": [
       "['know', 'okay', 'get', 'go', 'oh', 'look', 'well', 'gonna', 'like', 'think']"
      ]
     },
     "execution_count": 32,
     "metadata": {},
     "output_type": "execute_result"
    }
   ],
   "source": [
    "s= chandler_topics[0][1]\n",
    "s.split('\"')[1::2]"
   ]
  },
  {
   "cell_type": "code",
   "execution_count": 33,
   "metadata": {},
   "outputs": [],
   "source": [
    "lchar2 = [ 'rachel', 'ross','monica','phoebe',  'joey','chandler']"
   ]
  },
  {
   "cell_type": "code",
   "execution_count": 34,
   "metadata": {},
   "outputs": [],
   "source": [
    "topics_list = [rachel_topics, ross_topics, monica_topics, phoebe_topics, joey_topics, chandler_topics]\n",
    "character_affinity =[]\n",
    "for i in range(len(lchar2)):\n",
    "    tp = topics_list[i]\n",
    "    ca = [0 for i in range(6)]\n",
    "    for j in range(len(lchar2)):\n",
    "        for k, t in enumerate(tp):\n",
    "            s = t[1].split('\"')[1::2]\n",
    "            if(lchar2[j] in s):\n",
    "                ca[j] = ca[j]+1\n",
    "    character_affinity.append(ca)\n",
    "                \n",
    "        "
   ]
  },
  {
   "cell_type": "code",
   "execution_count": 35,
   "metadata": {},
   "outputs": [
    {
     "data": {
      "text/html": [
       "<div>\n",
       "<style scoped>\n",
       "    .dataframe tbody tr th:only-of-type {\n",
       "        vertical-align: middle;\n",
       "    }\n",
       "\n",
       "    .dataframe tbody tr th {\n",
       "        vertical-align: top;\n",
       "    }\n",
       "\n",
       "    .dataframe thead th {\n",
       "        text-align: right;\n",
       "    }\n",
       "</style>\n",
       "<table border=\"1\" class=\"dataframe\">\n",
       "  <thead>\n",
       "    <tr style=\"text-align: right;\">\n",
       "      <th></th>\n",
       "      <th>rachel</th>\n",
       "      <th>ross</th>\n",
       "      <th>monica</th>\n",
       "      <th>phoebe</th>\n",
       "      <th>joey</th>\n",
       "      <th>chandler</th>\n",
       "    </tr>\n",
       "  </thead>\n",
       "  <tbody>\n",
       "    <tr>\n",
       "      <td>rachel</td>\n",
       "      <td>0</td>\n",
       "      <td>6</td>\n",
       "      <td>0</td>\n",
       "      <td>0</td>\n",
       "      <td>1</td>\n",
       "      <td>0</td>\n",
       "    </tr>\n",
       "    <tr>\n",
       "      <td>ross</td>\n",
       "      <td>2</td>\n",
       "      <td>0</td>\n",
       "      <td>0</td>\n",
       "      <td>0</td>\n",
       "      <td>0</td>\n",
       "      <td>0</td>\n",
       "    </tr>\n",
       "    <tr>\n",
       "      <td>monica</td>\n",
       "      <td>0</td>\n",
       "      <td>0</td>\n",
       "      <td>0</td>\n",
       "      <td>0</td>\n",
       "      <td>0</td>\n",
       "      <td>4</td>\n",
       "    </tr>\n",
       "    <tr>\n",
       "      <td>phoebe</td>\n",
       "      <td>0</td>\n",
       "      <td>1</td>\n",
       "      <td>2</td>\n",
       "      <td>0</td>\n",
       "      <td>0</td>\n",
       "      <td>1</td>\n",
       "    </tr>\n",
       "    <tr>\n",
       "      <td>joey</td>\n",
       "      <td>0</td>\n",
       "      <td>4</td>\n",
       "      <td>0</td>\n",
       "      <td>0</td>\n",
       "      <td>1</td>\n",
       "      <td>2</td>\n",
       "    </tr>\n",
       "    <tr>\n",
       "      <td>chandler</td>\n",
       "      <td>0</td>\n",
       "      <td>0</td>\n",
       "      <td>4</td>\n",
       "      <td>0</td>\n",
       "      <td>5</td>\n",
       "      <td>0</td>\n",
       "    </tr>\n",
       "  </tbody>\n",
       "</table>\n",
       "</div>"
      ],
      "text/plain": [
       "          rachel  ross  monica  phoebe  joey  chandler\n",
       "rachel         0     6       0       0     1         0\n",
       "ross           2     0       0       0     0         0\n",
       "monica         0     0       0       0     0         4\n",
       "phoebe         0     1       2       0     0         1\n",
       "joey           0     4       0       0     1         2\n",
       "chandler       0     0       4       0     5         0"
      ]
     },
     "execution_count": 35,
     "metadata": {},
     "output_type": "execute_result"
    }
   ],
   "source": [
    "ca_df = pd.DataFrame(character_affinity)\n",
    "ca_df.columns =lchar2\n",
    "ca_df.index = lchar2\n",
    "ca_df"
   ]
  },
  {
   "cell_type": "code",
   "execution_count": 36,
   "metadata": {},
   "outputs": [
    {
     "data": {
      "text/plain": [
       "Text(0.5, 1, 'Character affinity heat map')"
      ]
     },
     "execution_count": 36,
     "metadata": {},
     "output_type": "execute_result"
    },
    {
     "data": {
      "image/png": "[encoded data removed]",
      "text/plain": [
       "<Figure size 792x648 with 2 Axes>"
      ]
     },
     "metadata": {
      "needs_background": "light"
     },
     "output_type": "display_data"
    }
   ],
   "source": [
    "#plotting character affinity heatmap \n",
    "#Higher affinity towards one character means higher mentions of another character in the other character's key topics through out\n",
    "fig, ax = plt.subplots(figsize=(11, 9))\n",
    "sb.heatmap(ca_df)\n",
    "\n",
    "# displaying the title \n",
    "plt.title(\"Character affinity heat map\")"
   ]
  },
  {
   "cell_type": "code",
   "execution_count": 37,
   "metadata": {},
   "outputs": [
    {
     "data": {
      "image/png": "[encoded data removed]",
      "text/plain": [
       "<Figure size 432x288 with 1 Axes>"
      ]
     },
     "metadata": {
      "needs_background": "light"
     },
     "output_type": "display_data"
    }
   ],
   "source": [
    "# Most important character by dialogues - Joey\n",
    "fig = plt.figure()\n",
    "ax = fig.add_axes([0,0,1,1])\n",
    "ax.set_title(\"Dialogue frequency score\", pad=20)\n",
    "plt.xlabel('Characters')  \n",
    "plt.ylabel('Number of dialogues') \n",
    "ax.bar(lchar2, friends_char_df.groupby(by=[\"Character\"]).count()['Dialogue'])\n",
    "\n",
    "plt.show()"
   ]
  },
  {
   "cell_type": "code",
   "execution_count": 38,
   "metadata": {},
   "outputs": [
    {
     "name": "stderr",
     "output_type": "stream",
     "text": [
      "C:\\Users\\Apoorva\\Documents\\AnacondaInstallation\\lib\\site-packages\\pandas\\core\\indexing.py:376: SettingWithCopyWarning: \n",
      "A value is trying to be set on a copy of a slice from a DataFrame.\n",
      "Try using .loc[row_indexer,col_indexer] = value instead\n",
      "\n",
      "See the caveats in the documentation: http://pandas.pydata.org/pandas-docs/stable/user_guide/indexing.html#returning-a-view-versus-a-copy\n",
      "  self.obj[key] = _infer_fill_value(value)\n",
      "C:\\Users\\Apoorva\\Documents\\AnacondaInstallation\\lib\\site-packages\\pandas\\core\\indexing.py:494: SettingWithCopyWarning: \n",
      "A value is trying to be set on a copy of a slice from a DataFrame.\n",
      "Try using .loc[row_indexer,col_indexer] = value instead\n",
      "\n",
      "See the caveats in the documentation: http://pandas.pydata.org/pandas-docs/stable/user_guide/indexing.html#returning-a-view-versus-a-copy\n",
      "  self.obj[item] = s\n"
     ]
    }
   ],
   "source": [
    "# using TextBlob.sentiment method \n",
    "for i in friends_char_df.index:\n",
    "    dialogue = friends_char_df.loc[i,'Dialogue']\n",
    "    tb = TextBlob(dialogue)\n",
    "    s=0\n",
    "    if(tb.sentiment[0]>0):\n",
    "        s =1\n",
    "    elif(tb.sentiment[0]<0):\n",
    "        s=-1\n",
    "    friends_char_df.loc[i,'Sentiment'] =s"
   ]
  },
  {
   "cell_type": "code",
   "execution_count": 39,
   "metadata": {},
   "outputs": [
    {
     "name": "stderr",
     "output_type": "stream",
     "text": [
      "C:\\Users\\Apoorva\\Documents\\AnacondaInstallation\\lib\\site-packages\\ipykernel_launcher.py:3: UserWarning: Boolean Series key will be reindexed to match DataFrame index.\n",
      "  This is separate from the ipykernel package so we can avoid doing imports until\n",
      "C:\\Users\\Apoorva\\Documents\\AnacondaInstallation\\lib\\site-packages\\ipykernel_launcher.py:4: UserWarning: Boolean Series key will be reindexed to match DataFrame index.\n",
      "  after removing the cwd from sys.path.\n",
      "C:\\Users\\Apoorva\\Documents\\AnacondaInstallation\\lib\\site-packages\\ipykernel_launcher.py:5: UserWarning: Boolean Series key will be reindexed to match DataFrame index.\n",
      "  \"\"\"\n"
     ]
    }
   ],
   "source": [
    "actor_sentiment =[]\n",
    "for actor in lchar2:\n",
    "    cp = friends_char_df[friends_char_df.Character == actor.capitalize()][friends_char_df.Sentiment == 1].Sentiment.count()\n",
    "    cn = friends_char_df[friends_char_df.Character == actor.capitalize()][friends_char_df.Sentiment == 0].Sentiment.count()\n",
    "    c = friends_char_df[friends_char_df.Character == actor.capitalize()][friends_char_df.Sentiment == -1].Sentiment.count()\n",
    "    s = cp+cn+c\n",
    "    actor_sentiment.append([cp*100/s,c*100/s,cn*100/s])"
   ]
  },
  {
   "cell_type": "code",
   "execution_count": 40,
   "metadata": {},
   "outputs": [
    {
     "data": {
      "image/png": "[encoded data removed]",
      "text/plain": [
       "<Figure size 432x288 with 1 Axes>"
      ]
     },
     "metadata": {
      "needs_background": "light"
     },
     "output_type": "display_data"
    }
   ],
   "source": [
    "data_sent =  np.array(actor_sentiment).T.tolist()\n",
    "X = np.arange(6)\n",
    "fig = plt.figure()\n",
    "ax = fig.add_axes([0,0,1,1])\n",
    "r1 =ax.bar(X + 0.00, data_sent[0], color = 'g', width= 0.25)\n",
    "r2 =ax.bar(X + 0.25, data_sent[1], color = 'b', width = 0.25)\n",
    "r3 =ax.bar(X + 0.50, data_sent[2], color = 'r', width = 0.25)\n",
    "ax.legend(labels=['Postive', 'Neutral','Negative'])\n",
    "ax.set_title(\"Character dialogue sentiment distribution (percentage)\", pad=20)\n",
    "lchar2 = [l.capitalize() for l in lchar2]\n",
    "plt.xticks(X + .25 /2, lchar2)\n",
    "\n",
    "\n",
    "def autolabel(rects):\n",
    "    \"\"\"Attach a text label above each bar in *rects*, displaying its height.\"\"\"\n",
    "    for rect in rects:\n",
    "        height = round(rect.get_height(),2)\n",
    "        ax.annotate('{}'.format(height),\n",
    "                    xy=(rect.get_x() + rect.get_width() / 2, height),\n",
    "                    xytext=(0, 3),  # 3 points vertical offset\n",
    "                    textcoords=\"offset points\",\n",
    "                    ha='center', va='bottom', fontsize=8)\n",
    "\n",
    "\n",
    "autolabel(r1)\n",
    "autolabel(r2)\n",
    "autolabel(r3)\n",
    "\n",
    "plt.show()"
   ]
  }
 ],
 "metadata": {
  "kernelspec": {
   "display_name": "Python 3",
   "language": "python",
   "name": "python3"
  },
  "language_info": {
   "codemirror_mode": {
    "name": "ipython",
    "version": 3
   },
   "file_extension": ".py",
   "mimetype": "text/x-python",
   "name": "python",
   "nbconvert_exporter": "python",
   "pygments_lexer": "ipython3",
   "version": "3.7.3"
  }
 },
 "nbformat": 4,
 "nbformat_minor": 2
}
